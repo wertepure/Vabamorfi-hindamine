{
 "cells": [
  {
   "cell_type": "code",
   "execution_count": 1,
   "metadata": {},
   "outputs": [],
   "source": [
    "from collections import defaultdict\n",
    "import os, os.path\n",
    "import re\n",
    "from estnltk.converters import json_to_text\n",
    "from estnltk.converters import text_to_json\n",
    "from estnltk.resolve_layer_dag import make_resolver\n",
    "from estnltk.taggers import VabamorfTagger\n",
    "from estnltk.taggers import VabamorfAnalyzer\n",
    "from estnltk.taggers import VabamorfCorpusTagger, CorpusBasedMorphDisambiguator\n",
    "from estnltk import Text"
   ]
  },
  {
   "cell_type": "code",
   "execution_count": 2,
   "metadata": {},
   "outputs": [],
   "source": [
    "#korpusepõhine ühestamine\n",
    "#NB! Tekstid tuleb enne tagimist grupeerida\n",
    "korpusepohine = VabamorfCorpusTagger( output_layer='morph_korpusepohine' )"
   ]
  },
  {
   "cell_type": "code",
   "execution_count": 3,
   "metadata": {
    "scrolled": true
   },
   "outputs": [
    {
     "name": "stdout",
     "output_type": "stream",
     "text": [
      " Loaded  et_edt-ud-dev_000_am.json\n",
      " Loaded  et_edt-ud-dev_001_am.json\n",
      " Loaded  et_edt-ud-dev_002_am.json\n",
      " Loaded  et_edt-ud-dev_003_am.json\n",
      " Loaded  et_edt-ud-dev_004_am.json\n",
      " Loaded  et_edt-ud-dev_006_am.json\n",
      " Loaded  et_edt-ud-dev_007_am.json\n",
      " Loaded  et_edt-ud-dev_008_am.json\n",
      " Loaded  et_edt-ud-test_009_am.json\n",
      " Loaded  et_edt-ud-test_010_am.json\n",
      " Loaded  et_edt-ud-test_011_am.json\n",
      " Loaded  et_edt-ud-test_013_am.json\n",
      " Loaded  et_edt-ud-test_014_am.json\n",
      " Loaded  et_edt-ud-train_015_am.json\n",
      " Loaded  et_edt-ud-train_016_am.json\n",
      " Loaded  et_edt-ud-train_017_am.json\n",
      " Loaded  et_edt-ud-train_018_am.json\n",
      " Loaded  et_edt-ud-train_019_am.json\n",
      " Loaded  et_edt-ud-train_020_am.json\n",
      " Loaded  et_edt-ud-train_021_am.json\n",
      " Loaded  et_edt-ud-train_022_am.json\n",
      " Loaded  et_edt-ud-train_023_am.json\n",
      " Loaded  et_edt-ud-train_024_am.json\n",
      " Loaded  et_edt-ud-train_025_am.json\n",
      " Loaded  et_edt-ud-train_027_am.json\n",
      " Loaded  et_edt-ud-train_028_am.json\n",
      " Loaded  et_edt-ud-train_029_am.json\n",
      " Loaded  et_edt-ud-train_030_am.json\n",
      " Loaded  et_edt-ud-train_031_am.json\n",
      " Loaded  et_edt-ud-train_032_am.json\n",
      " Loaded  et_edt-ud-train_033_am.json\n",
      " Loaded  et_edt-ud-train_034_am.json\n",
      " Loaded  et_edt-ud-train_035_am.json\n",
      " Loaded  et_edt-ud-train_036_am.json\n",
      " Loaded  et_edt-ud-train_037_am.json\n",
      " Loaded  et_edt-ud-train_038_am.json\n"
     ]
    }
   ],
   "source": [
    "# Corpus with gold standard annotations and automaatmärgendus\n",
    "input_dir = 'Automaatmargendusega_EDT_hastaalfinaal'\n",
    "assert os.path.isdir( input_dir )\n",
    "loaded_texts_edt_am = []\n",
    "for fname in os.listdir( input_dir ):\n",
    "    #if 'dev' in fname:\n",
    "        #continue\n",
    "    #if 'test' in fname:\n",
    "     #   continue\n",
    "    #if 'train' in fname:\n",
    "     #   continue\n",
    "    if fname.endswith('.json'):\n",
    "        # Load Text with gold standard annotations\n",
    "        text = json_to_text(file=os.path.join(input_dir, fname) )\n",
    "        loaded_texts_edt_am.append( text )\n",
    "        print(' Loaded ', fname)"
   ]
  },
  {
   "cell_type": "code",
   "execution_count": 4,
   "metadata": {
    "scrolled": true
   },
   "outputs": [
    {
     "name": "stdout",
     "output_type": "stream",
     "text": [
      " Loaded  et_ewt-ud-dev_000_am.json\n",
      " Loaded  et_ewt-ud-dev_001_am.json\n",
      " Loaded  et_ewt-ud-dev_002_am.json\n",
      " Loaded  et_ewt-ud-dev_003_am.json\n",
      " Loaded  et_ewt-ud-dev_004_am.json\n",
      " Loaded  et_ewt-ud-test_005_am.json\n",
      " Loaded  et_ewt-ud-test_006_am.json\n",
      " Loaded  et_ewt-ud-test_007_am.json\n",
      " Loaded  et_ewt-ud-test_008_am.json\n",
      " Loaded  et_ewt-ud-test_009_am.json\n",
      " Loaded  et_ewt-ud-test_010_am.json\n",
      " Loaded  et_ewt-ud-test_011_am.json\n",
      " Loaded  et_ewt-ud-train_012_am.json\n",
      " Loaded  et_ewt-ud-train_013_am.json\n",
      " Loaded  et_ewt-ud-train_014_am.json\n",
      " Loaded  et_ewt-ud-train_015_am.json\n",
      " Loaded  et_ewt-ud-train_016_am.json\n",
      " Loaded  et_ewt-ud-train_017_am.json\n",
      " Loaded  et_ewt-ud-train_018_am.json\n",
      " Loaded  et_ewt-ud-train_019_am.json\n",
      " Loaded  et_ewt-ud-train_020_am.json\n",
      " Loaded  et_ewt-ud-train_021_am.json\n",
      " Loaded  et_ewt-ud-train_022_am.json\n",
      " Loaded  et_ewt-ud-train_023_am.json\n",
      " Loaded  et_ewt-ud-train_024_am.json\n",
      " Loaded  et_ewt-ud-train_025_am.json\n",
      " Loaded  et_ewt-ud-train_026_am.json\n",
      " Loaded  et_ewt-ud-train_027_am.json\n",
      " Loaded  et_ewt-ud-train_028_am.json\n",
      " Loaded  et_ewt-ud-train_029_am.json\n",
      " Loaded  et_ewt-ud-train_030_am.json\n",
      " Loaded  et_ewt-ud-train_031_am.json\n",
      " Loaded  et_ewt-ud-train_032_am.json\n",
      " Loaded  et_ewt-ud-train_033_am.json\n",
      " Loaded  et_ewt-ud-train_034_am.json\n",
      " Loaded  et_ewt-ud-train_035_am.json\n",
      " Loaded  et_ewt-ud-train_036_am.json\n",
      " Loaded  et_ewt-ud-train_037_am.json\n",
      " Loaded  et_ewt-ud-train_038_am.json\n",
      " Loaded  et_ewt-ud-train_039_am.json\n",
      " Loaded  et_ewt-ud-train_040_am.json\n"
     ]
    }
   ],
   "source": [
    "# Corpus with gold standard annotations and automaatmärgendus\n",
    "input_dir = 'Automaatmargendusega_EWT_hastaalfinaal'\n",
    "assert os.path.isdir( input_dir )\n",
    "loaded_texts_ewt_am = []\n",
    "for fname in os.listdir( input_dir ):\n",
    "    #if 'dev' in fname:\n",
    "        #continue\n",
    "    #if 'test' in fname:\n",
    "     #   continue\n",
    "    #if 'train' in fname:\n",
    "     #   continue\n",
    "    if fname.endswith('.json'):\n",
    "        # Load Text with gold standard annotations\n",
    "        text = json_to_text(file=os.path.join(input_dir, fname) )\n",
    "        loaded_texts_ewt_am.append( text )\n",
    "        print(' Loaded ', fname)"
   ]
  },
  {
   "cell_type": "code",
   "execution_count": 12,
   "metadata": {},
   "outputs": [],
   "source": [
    "#jaotab korpuse žanripõhiselt eraldi listidesse\n",
    "aja = [] #ajakirjandus\n",
    "tea = [] #teadus\n",
    "ilu = [] #ilukirjandus\n",
    "for t in loaded_texts_edt_am:\n",
    "    file_id = t.meta['file_prefix']\n",
    "    if re.match('^tea', file_id):\n",
    "        tea.append(t)\n",
    "    elif re.match('^aja', file_id):\n",
    "        aja.append(t)\n",
    "    elif re.match('^ilu', file_id):\n",
    "        ilu.append(t)\n",
    "        \n",
    "foorum = [] \n",
    "ewtb = [] #estonian web treebank (vanad tekstid)\n",
    "kom = [] #kommentaarium\n",
    "for t in loaded_texts_ewt_am:\n",
    "    file_id = t.meta['file_prefix']\n",
    "    if 'foorum' in file_id:\n",
    "        foorum.append(t)\n",
    "    elif 'ewtb' in file_id:\n",
    "        ewtb.append(t)\n",
    "    elif 'kom' in file_id:\n",
    "        kom.append(t)"
   ]
  },
  {
   "cell_type": "code",
   "execution_count": 13,
   "metadata": {},
   "outputs": [],
   "source": [
    "#KORPUSEPÕHISED\n",
    "korpusepohine.tag(aja)\n",
    "korpusepohine.tag(tea)\n",
    "korpusepohine.tag(ilu)\n",
    "korpusepohine.tag(foorum)\n",
    "korpusepohine.tag(ewtb)\n",
    "korpusepohine.tag(kom)\n",
    "\n",
    "edt_korpusepohistega = aja + ilu + tea\n",
    "ewt_korpusepohistega = foorum + ewtb + kom"
   ]
  },
  {
   "cell_type": "code",
   "execution_count": 20,
   "metadata": {},
   "outputs": [],
   "source": [
    "output_dir = 'Automaatmargendusega_EDT_hastaalfinaal2'\n",
    "if not os.path.isdir( output_dir ):\n",
    "    os.makedirs(output_dir)\n",
    "assert os.path.isdir( output_dir )"
   ]
  },
  {
   "cell_type": "code",
   "execution_count": 21,
   "metadata": {
    "scrolled": true
   },
   "outputs": [
    {
     "name": "stdout",
     "output_type": "stream",
     "text": [
      " Loaded, pre-annotated and written et_edt-ud-dev_0_am.json\n",
      " Loaded, pre-annotated and written et_edt-ud-dev_1_am.json\n",
      " Loaded, pre-annotated and written et_edt-ud-dev_2_am.json\n",
      " Loaded, pre-annotated and written et_edt-ud-dev_3_am.json\n",
      " Loaded, pre-annotated and written et_edt-ud-dev_4_am.json\n",
      " Loaded, pre-annotated and written et_edt-ud-test_5_am.json\n",
      " Loaded, pre-annotated and written et_edt-ud-test_6_am.json\n",
      " Loaded, pre-annotated and written et_edt-ud-test_7_am.json\n",
      " Loaded, pre-annotated and written et_edt-ud-train_8_am.json\n",
      " Loaded, pre-annotated and written et_edt-ud-train_9_am.json\n",
      " Loaded, pre-annotated and written et_edt-ud-train_10_am.json\n",
      " Loaded, pre-annotated and written et_edt-ud-train_11_am.json\n",
      " Loaded, pre-annotated and written et_edt-ud-train_12_am.json\n",
      " Loaded, pre-annotated and written et_edt-ud-train_13_am.json\n",
      " Loaded, pre-annotated and written et_edt-ud-train_14_am.json\n",
      " Loaded, pre-annotated and written et_edt-ud-train_15_am.json\n",
      " Loaded, pre-annotated and written et_edt-ud-train_16_am.json\n",
      " Loaded, pre-annotated and written et_edt-ud-train_17_am.json\n",
      " Loaded, pre-annotated and written et_edt-ud-train_18_am.json\n",
      " Loaded, pre-annotated and written et_edt-ud-dev_19_am.json\n",
      " Loaded, pre-annotated and written et_edt-ud-dev_20_am.json\n",
      " Loaded, pre-annotated and written et_edt-ud-test_21_am.json\n",
      " Loaded, pre-annotated and written et_edt-ud-train_22_am.json\n",
      " Loaded, pre-annotated and written et_edt-ud-train_23_am.json\n",
      " Loaded, pre-annotated and written et_edt-ud-train_24_am.json\n",
      " Loaded, pre-annotated and written et_edt-ud-train_25_am.json\n",
      " Loaded, pre-annotated and written et_edt-ud-train_26_am.json\n",
      " Loaded, pre-annotated and written et_edt-ud-train_27_am.json\n",
      " Loaded, pre-annotated and written et_edt-ud-train_28_am.json\n",
      " Loaded, pre-annotated and written et_edt-ud-dev_29_am.json\n",
      " Loaded, pre-annotated and written et_edt-ud-test_30_am.json\n",
      " Loaded, pre-annotated and written et_edt-ud-train_31_am.json\n",
      " Loaded, pre-annotated and written et_edt-ud-train_32_am.json\n",
      " Loaded, pre-annotated and written et_edt-ud-train_33_am.json\n",
      " Loaded, pre-annotated and written et_edt-ud-train_34_am.json\n",
      " Loaded, pre-annotated and written et_edt-ud-train_35_am.json\n"
     ]
    }
   ],
   "source": [
    "# Load gold standard texts and add pre-annotations\n",
    "i = -1\n",
    "for tekst in edt_korpusepohistega:\n",
    "    i += 1\n",
    "    if fname.endswith('.json'):\n",
    "        fname = tekst.meta['file']\n",
    "        fname2 = '_' + str(i) + '_am.json' \n",
    "        fname = fname.replace('.conllu', fname2)\n",
    "        fpath = os.path.join(output_dir, fname)\n",
    "        text_to_json(tekst, file=fpath)\n",
    "        print(' Loaded, pre-annotated and written', fname)"
   ]
  },
  {
   "cell_type": "code",
   "execution_count": 22,
   "metadata": {},
   "outputs": [],
   "source": [
    "output_dir = 'Automaatmargendusega_EWT_hastaalfinaal2'\n",
    "if not os.path.isdir( output_dir ):\n",
    "    os.makedirs(output_dir)\n",
    "assert os.path.isdir( output_dir )"
   ]
  },
  {
   "cell_type": "code",
   "execution_count": 23,
   "metadata": {
    "scrolled": true
   },
   "outputs": [
    {
     "name": "stdout",
     "output_type": "stream",
     "text": [
      " Loaded, pre-annotated and written et_ewt-ud-dev_0_am.json\n",
      " Loaded, pre-annotated and written et_ewt-ud-dev_1_am.json\n",
      " Loaded, pre-annotated and written et_ewt-ud-test_2_am.json\n",
      " Loaded, pre-annotated and written et_ewt-ud-train_3_am.json\n",
      " Loaded, pre-annotated and written et_ewt-ud-train_4_am.json\n",
      " Loaded, pre-annotated and written et_ewt-ud-train_5_am.json\n",
      " Loaded, pre-annotated and written et_ewt-ud-train_6_am.json\n",
      " Loaded, pre-annotated and written et_ewt-ud-dev_7_am.json\n",
      " Loaded, pre-annotated and written et_ewt-ud-dev_8_am.json\n",
      " Loaded, pre-annotated and written et_ewt-ud-dev_9_am.json\n",
      " Loaded, pre-annotated and written et_ewt-ud-test_10_am.json\n",
      " Loaded, pre-annotated and written et_ewt-ud-test_11_am.json\n",
      " Loaded, pre-annotated and written et_ewt-ud-test_12_am.json\n",
      " Loaded, pre-annotated and written et_ewt-ud-test_13_am.json\n",
      " Loaded, pre-annotated and written et_ewt-ud-test_14_am.json\n",
      " Loaded, pre-annotated and written et_ewt-ud-test_15_am.json\n",
      " Loaded, pre-annotated and written et_ewt-ud-train_16_am.json\n",
      " Loaded, pre-annotated and written et_ewt-ud-train_17_am.json\n",
      " Loaded, pre-annotated and written et_ewt-ud-train_18_am.json\n",
      " Loaded, pre-annotated and written et_ewt-ud-train_19_am.json\n",
      " Loaded, pre-annotated and written et_ewt-ud-train_20_am.json\n",
      " Loaded, pre-annotated and written et_ewt-ud-train_21_am.json\n",
      " Loaded, pre-annotated and written et_ewt-ud-train_22_am.json\n",
      " Loaded, pre-annotated and written et_ewt-ud-train_23_am.json\n",
      " Loaded, pre-annotated and written et_ewt-ud-train_24_am.json\n",
      " Loaded, pre-annotated and written et_ewt-ud-train_25_am.json\n",
      " Loaded, pre-annotated and written et_ewt-ud-train_26_am.json\n",
      " Loaded, pre-annotated and written et_ewt-ud-train_27_am.json\n",
      " Loaded, pre-annotated and written et_ewt-ud-train_28_am.json\n",
      " Loaded, pre-annotated and written et_ewt-ud-train_29_am.json\n",
      " Loaded, pre-annotated and written et_ewt-ud-train_30_am.json\n",
      " Loaded, pre-annotated and written et_ewt-ud-train_31_am.json\n",
      " Loaded, pre-annotated and written et_ewt-ud-train_32_am.json\n",
      " Loaded, pre-annotated and written et_ewt-ud-train_33_am.json\n",
      " Loaded, pre-annotated and written et_ewt-ud-train_34_am.json\n",
      " Loaded, pre-annotated and written et_ewt-ud-train_35_am.json\n",
      " Loaded, pre-annotated and written et_ewt-ud-train_36_am.json\n",
      " Loaded, pre-annotated and written et_ewt-ud-train_37_am.json\n",
      " Loaded, pre-annotated and written et_ewt-ud-train_38_am.json\n",
      " Loaded, pre-annotated and written et_ewt-ud-train_39_am.json\n",
      " Loaded, pre-annotated and written et_ewt-ud-train_40_am.json\n"
     ]
    }
   ],
   "source": [
    "# Load gold standard texts and add pre-annotations\n",
    "i = -1\n",
    "for tekst in ewt_korpusepohistega:\n",
    "    i += 1\n",
    "    if fname.endswith('.json'):\n",
    "        fname = tekst.meta['file']\n",
    "        fname2 = '_' + str(i) + '_am.json' \n",
    "        fname = fname.replace('.conllu', fname2)\n",
    "        fpath = os.path.join(output_dir, fname)\n",
    "        text_to_json(tekst, file=fpath)\n",
    "        print(' Loaded, pre-annotated and written', fname)"
   ]
  }
 ],
 "metadata": {
  "kernelspec": {
   "display_name": "Python 3",
   "language": "python",
   "name": "python3"
  },
  "language_info": {
   "codemirror_mode": {
    "name": "ipython",
    "version": 3
   },
   "file_extension": ".py",
   "mimetype": "text/x-python",
   "name": "python",
   "nbconvert_exporter": "python",
   "pygments_lexer": "ipython3",
   "version": "3.6.10"
  }
 },
 "nbformat": 4,
 "nbformat_minor": 4
}
