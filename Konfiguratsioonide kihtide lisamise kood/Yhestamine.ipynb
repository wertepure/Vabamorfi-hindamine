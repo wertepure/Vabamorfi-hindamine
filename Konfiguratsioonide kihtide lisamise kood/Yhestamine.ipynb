{
 "cells": [
  {
   "cell_type": "code",
   "execution_count": 1,
   "metadata": {},
   "outputs": [],
   "source": [
    "from collections import defaultdict\n",
    "import os, os.path\n",
    "import re\n",
    "from estnltk.converters import json_to_text\n",
    "from estnltk.converters import text_to_json\n",
    "from estnltk.resolve_layer_dag import make_resolver\n",
    "from estnltk.taggers import VabamorfTagger\n",
    "from estnltk.taggers import VabamorfAnalyzer\n",
    "from estnltk.taggers import VabamorfCorpusTagger, CorpusBasedMorphDisambiguator\n",
    "from estnltk import Text"
   ]
  },
  {
   "cell_type": "code",
   "execution_count": 2,
   "metadata": {},
   "outputs": [],
   "source": [
    "#tavaline VabamorfTagger koos ühestamisega \n",
    "yhestamisega = VabamorfTagger(\n",
    "    output_layer='morph_yhestamisega',\n",
    "    disambiguate=True,\n",
    "    guess=True, \n",
    "    propername=True,\n",
    "    slang_lex=False,\n",
    "    use_postanalysis=True\n",
    "    )"
   ]
  },
  {
   "cell_type": "code",
   "execution_count": 3,
   "metadata": {},
   "outputs": [],
   "source": [
    "output_dir = 'Automaatmargendusega_EDT_hastaalfinaal'\n",
    "if not os.path.isdir( output_dir ):\n",
    "    os.makedirs(output_dir)\n",
    "assert os.path.isdir( output_dir )\n",
    "# Corpus with gold standard annotations\n",
    "input_dir = 'Automaatmargendusega_EDT_hastaalfinaal'\n",
    "assert os.path.isdir( input_dir )"
   ]
  },
  {
   "cell_type": "code",
   "execution_count": 4,
   "metadata": {},
   "outputs": [
    {
     "name": "stdout",
     "output_type": "stream",
     "text": [
      " Loaded, pre-annotated and written et_edt-ud-dev_000_am.json\n",
      " Loaded, pre-annotated and written et_edt-ud-dev_001_am.json\n",
      " Loaded, pre-annotated and written et_edt-ud-dev_002_am.json\n",
      " Loaded, pre-annotated and written et_edt-ud-dev_003_am.json\n",
      " Loaded, pre-annotated and written et_edt-ud-dev_004_am.json\n",
      " Loaded, pre-annotated and written et_edt-ud-dev_006_am.json\n",
      " Loaded, pre-annotated and written et_edt-ud-dev_007_am.json\n",
      " Loaded, pre-annotated and written et_edt-ud-dev_008_am.json\n",
      " Loaded, pre-annotated and written et_edt-ud-test_009_am.json\n",
      " Loaded, pre-annotated and written et_edt-ud-test_010_am.json\n",
      " Loaded, pre-annotated and written et_edt-ud-test_011_am.json\n",
      " Loaded, pre-annotated and written et_edt-ud-test_013_am.json\n",
      " Loaded, pre-annotated and written et_edt-ud-test_014_am.json\n",
      " Loaded, pre-annotated and written et_edt-ud-train_015_am.json\n",
      " Loaded, pre-annotated and written et_edt-ud-train_016_am.json\n",
      " Loaded, pre-annotated and written et_edt-ud-train_017_am.json\n",
      " Loaded, pre-annotated and written et_edt-ud-train_018_am.json\n",
      " Loaded, pre-annotated and written et_edt-ud-train_019_am.json\n",
      " Loaded, pre-annotated and written et_edt-ud-train_020_am.json\n",
      " Loaded, pre-annotated and written et_edt-ud-train_021_am.json\n",
      " Loaded, pre-annotated and written et_edt-ud-train_022_am.json\n",
      " Loaded, pre-annotated and written et_edt-ud-train_023_am.json\n",
      " Loaded, pre-annotated and written et_edt-ud-train_024_am.json\n",
      " Loaded, pre-annotated and written et_edt-ud-train_025_am.json\n",
      " Loaded, pre-annotated and written et_edt-ud-train_027_am.json\n",
      " Loaded, pre-annotated and written et_edt-ud-train_028_am.json\n",
      " Loaded, pre-annotated and written et_edt-ud-train_029_am.json\n",
      " Loaded, pre-annotated and written et_edt-ud-train_030_am.json\n",
      " Loaded, pre-annotated and written et_edt-ud-train_031_am.json\n",
      " Loaded, pre-annotated and written et_edt-ud-train_032_am.json\n",
      " Loaded, pre-annotated and written et_edt-ud-train_033_am.json\n",
      " Loaded, pre-annotated and written et_edt-ud-train_034_am.json\n",
      " Loaded, pre-annotated and written et_edt-ud-train_035_am.json\n",
      " Loaded, pre-annotated and written et_edt-ud-train_036_am.json\n",
      " Loaded, pre-annotated and written et_edt-ud-train_037_am.json\n",
      " Loaded, pre-annotated and written et_edt-ud-train_038_am.json\n"
     ]
    }
   ],
   "source": [
    "my_resolver = make_resolver()  # Make a copy of the default resolver\n",
    "# Load gold standard texts and add pre-annotations\n",
    "for fname in os.listdir( input_dir ):\n",
    "    #if 'dev' in fname:\n",
    "        #continue\n",
    "    #if 'test' in fname:\n",
    "    #    continue\n",
    "    #if 'train' in fname:\n",
    "    #    continue\n",
    "    if fname.endswith('.json'):\n",
    "        # Load Text with gold standard annotations\n",
    "        text = json_to_text(file=os.path.join(input_dir, fname) )\n",
    "        #kui pole lihtlausete korpusest\n",
    "        if \"arborest\" not in text.meta['file_prefix']:\n",
    "            # Add Vabamorf's morph analysises\n",
    "            yhestamisega.tag(text)\n",
    "            fpath = os.path.join(output_dir, fname)\n",
    "            text_to_json(text, file=fpath)\n",
    "            print(' Loaded, pre-annotated and written', fname)"
   ]
  },
  {
   "cell_type": "code",
   "execution_count": 5,
   "metadata": {},
   "outputs": [],
   "source": [
    "output_dir = 'Automaatmargendusega_EWT_hastaalfinaal'\n",
    "if not os.path.isdir( output_dir ):\n",
    "    os.makedirs(output_dir)\n",
    "assert os.path.isdir( output_dir )\n",
    "# Corpus with gold standard annotations\n",
    "input_dir = 'Automaatmargendusega_EWT_hastaalfinaal'\n",
    "assert os.path.isdir( input_dir )"
   ]
  },
  {
   "cell_type": "code",
   "execution_count": 6,
   "metadata": {},
   "outputs": [
    {
     "name": "stdout",
     "output_type": "stream",
     "text": [
      " Loaded, pre-annotated and written et_ewt-ud-dev_000_am.json\n",
      " Loaded, pre-annotated and written et_ewt-ud-dev_001_am.json\n",
      " Loaded, pre-annotated and written et_ewt-ud-dev_002_am.json\n",
      " Loaded, pre-annotated and written et_ewt-ud-dev_003_am.json\n",
      " Loaded, pre-annotated and written et_ewt-ud-dev_004_am.json\n",
      " Loaded, pre-annotated and written et_ewt-ud-test_005_am.json\n",
      " Loaded, pre-annotated and written et_ewt-ud-test_006_am.json\n",
      " Loaded, pre-annotated and written et_ewt-ud-test_007_am.json\n",
      " Loaded, pre-annotated and written et_ewt-ud-test_008_am.json\n",
      " Loaded, pre-annotated and written et_ewt-ud-test_009_am.json\n",
      " Loaded, pre-annotated and written et_ewt-ud-test_010_am.json\n",
      " Loaded, pre-annotated and written et_ewt-ud-test_011_am.json\n",
      " Loaded, pre-annotated and written et_ewt-ud-train_012_am.json\n",
      " Loaded, pre-annotated and written et_ewt-ud-train_013_am.json\n",
      " Loaded, pre-annotated and written et_ewt-ud-train_014_am.json\n",
      " Loaded, pre-annotated and written et_ewt-ud-train_015_am.json\n",
      " Loaded, pre-annotated and written et_ewt-ud-train_016_am.json\n",
      " Loaded, pre-annotated and written et_ewt-ud-train_017_am.json\n",
      " Loaded, pre-annotated and written et_ewt-ud-train_018_am.json\n",
      " Loaded, pre-annotated and written et_ewt-ud-train_019_am.json\n",
      " Loaded, pre-annotated and written et_ewt-ud-train_020_am.json\n",
      " Loaded, pre-annotated and written et_ewt-ud-train_021_am.json\n",
      " Loaded, pre-annotated and written et_ewt-ud-train_022_am.json\n",
      " Loaded, pre-annotated and written et_ewt-ud-train_023_am.json\n",
      " Loaded, pre-annotated and written et_ewt-ud-train_024_am.json\n",
      " Loaded, pre-annotated and written et_ewt-ud-train_025_am.json\n",
      " Loaded, pre-annotated and written et_ewt-ud-train_026_am.json\n",
      " Loaded, pre-annotated and written et_ewt-ud-train_027_am.json\n",
      " Loaded, pre-annotated and written et_ewt-ud-train_028_am.json\n",
      " Loaded, pre-annotated and written et_ewt-ud-train_029_am.json\n",
      " Loaded, pre-annotated and written et_ewt-ud-train_030_am.json\n",
      " Loaded, pre-annotated and written et_ewt-ud-train_031_am.json\n",
      " Loaded, pre-annotated and written et_ewt-ud-train_032_am.json\n",
      " Loaded, pre-annotated and written et_ewt-ud-train_033_am.json\n",
      " Loaded, pre-annotated and written et_ewt-ud-train_034_am.json\n",
      " Loaded, pre-annotated and written et_ewt-ud-train_035_am.json\n",
      " Loaded, pre-annotated and written et_ewt-ud-train_036_am.json\n",
      " Loaded, pre-annotated and written et_ewt-ud-train_037_am.json\n",
      " Loaded, pre-annotated and written et_ewt-ud-train_038_am.json\n",
      " Loaded, pre-annotated and written et_ewt-ud-train_039_am.json\n",
      " Loaded, pre-annotated and written et_ewt-ud-train_040_am.json\n"
     ]
    }
   ],
   "source": [
    "# Load gold standard texts and add pre-annotations\n",
    "for fname in os.listdir( input_dir ):\n",
    "    #if 'dev' in fname:\n",
    "        #continue\n",
    "    #if 'test' in fname:\n",
    "     #   continue\n",
    "    #if 'train' in fname:\n",
    "     #   continue\n",
    "    if fname.endswith('.json'):\n",
    "        # Load Text with gold standard annotations\n",
    "        text = json_to_text(file=os.path.join(input_dir, fname) )\n",
    "        # Add Vabamorf's morph analysises\n",
    "        yhestamisega.tag(text)\n",
    "        fpath = os.path.join(output_dir, fname)\n",
    "        text_to_json(text, file=fpath)\n",
    "        print(' Loaded, pre-annotated and written', fname)"
   ]
  }
 ],
 "metadata": {
  "kernelspec": {
   "display_name": "Python 3",
   "language": "python",
   "name": "python3"
  },
  "language_info": {
   "codemirror_mode": {
    "name": "ipython",
    "version": 3
   },
   "file_extension": ".py",
   "mimetype": "text/x-python",
   "name": "python",
   "nbconvert_exporter": "python",
   "pygments_lexer": "ipython3",
   "version": "3.6.10"
  }
 },
 "nbformat": 4,
 "nbformat_minor": 4
}
